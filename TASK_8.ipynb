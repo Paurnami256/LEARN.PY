{
  "nbformat": 4,
  "nbformat_minor": 0,
  "metadata": {
    "colab": {
      "name": "Copy of TASK 8.ipynb",
      "provenance": [],
      "include_colab_link": true
    },
    "kernelspec": {
      "name": "python3",
      "display_name": "Python 3"
    },
    "language_info": {
      "name": "python"
    }
  },
  "cells": [
    {
      "cell_type": "markdown",
      "metadata": {
        "id": "view-in-github",
        "colab_type": "text"
      },
      "source": [
        "<a href=\"https://colab.research.google.com/github/Paurnami256/LEARN.PY/blob/main/TASK_8.ipynb\" target=\"_parent\"><img src=\"https://colab.research.google.com/assets/colab-badge.svg\" alt=\"Open In Colab\"/></a>"
      ]
    },
    {
      "cell_type": "markdown",
      "metadata": {
        "id": "slsGswYbJSo7"
      },
      "source": [
        "1. Generate a 3 x 3 matrix using random module."
      ]
    },
    {
      "cell_type": "code",
      "metadata": {
        "id": "GGRQSYyNJW9t"
      },
      "source": [
        "#please provide your answer below this line.\n",
        "import numpy as np\n",
        "m = np.random.randn(3,3)\n",
        "print(m)"
      ],
      "execution_count": null,
      "outputs": []
    },
    {
      "cell_type": "markdown",
      "metadata": {
        "id": "4OB9KFX6JfYA"
      },
      "source": [
        "2. Generate two 4 x 4 matrix using numpy and \n",
        "\n",
        " a) Reshape it to 2 x 8matrix and vertically stack it.\n",
        "\n",
        " b) Reshape it to 2 x 8 matrix and horizontally stack it."
      ]
    },
    {
      "cell_type": "code",
      "metadata": {
        "id": "VoIqYeNWJ4H_"
      },
      "source": [
        "#please provide your answer below this line.\n",
        "import numpy as np\n",
        "m1 = np.random.randn(4,4)\n",
        "m2 = np.random.randn(4,4) \n",
        "A = m1.reshape((2, 8))\n",
        "B = m2.reshape((2, 8))\n",
        "out1 = np.vstack((A, B))\n",
        "print(out1)\n",
        "print(\"\\n\")\n",
        "out2 = np.hstack((A,B))\n",
        "print(out2)\n",
        "\n"
      ],
      "execution_count": null,
      "outputs": []
    }
  ]
}