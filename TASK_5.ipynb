{
  "nbformat": 4,
  "nbformat_minor": 0,
  "metadata": {
    "colab": {
      "name": "Copy of TASK 5.ipynb",
      "provenance": [],
      "include_colab_link": true
    },
    "kernelspec": {
      "name": "python3",
      "display_name": "Python 3"
    },
    "language_info": {
      "name": "python"
    }
  },
  "cells": [
    {
      "cell_type": "markdown",
      "metadata": {
        "id": "view-in-github",
        "colab_type": "text"
      },
      "source": [
        "<a href=\"https://colab.research.google.com/github/Paurnami256/LEARN.PY/blob/main/TASK_5.ipynb\" target=\"_parent\"><img src=\"https://colab.research.google.com/assets/colab-badge.svg\" alt=\"Open In Colab\"/></a>"
      ]
    },
    {
      "cell_type": "markdown",
      "metadata": {
        "id": "Gu_sxK-id8Zw"
      },
      "source": [
        "1.Given a list l=[23, 45, 25 ,78, 90, 45, 22, 56, 99, 12, 9, 75, 32]\n",
        "\n",
        "Write a single line program to display.\n",
        "\n",
        "a) elements at even index in the list.\n",
        "\n",
        "b) remove the 3 middle elements (45, 22 and 56)"
      ]
    },
    {
      "cell_type": "code",
      "metadata": {
        "id": "hiAZt40tgbu8",
        "colab": {
          "base_uri": "https://localhost:8080/"
        },
        "outputId": "44da55b0-5755-4b5a-e1e9-e1ab605fa835"
      },
      "source": [
        "#please write the code below this line\n",
        "l = [23, 45, 25 ,78, 90, 45, 22, 56, 99, 12, 9, 75, 32]\n",
        "even = []\n",
        "print(\"The even indexed values are :\")\n",
        "for i in range(0, len(l)) :\n",
        "  if i % 2 == 0  :\n",
        "    even.append(l[i])\n",
        "print(even)\n",
        "indices_list = [5,6,7]\n",
        "print(\"After Deletion :\")\n",
        "for i in sorted(indices_list, reverse = True):\n",
        "    del l[i]\n",
        "print(l)"
      ],
      "execution_count": 1,
      "outputs": [
        {
          "output_type": "stream",
          "text": [
            "The even indexed values are :\n",
            "[23, 25, 90, 22, 99, 9, 32]\n",
            "After Deletion :\n",
            "[23, 45, 25, 78, 90, 99, 12, 9, 75, 32]\n"
          ],
          "name": "stdout"
        }
      ]
    },
    {
      "cell_type": "markdown",
      "metadata": {
        "id": "EyjCDxcygv2C"
      },
      "source": [
        "2.Given a list lowerCase=['a', 'e', 'i', 'o', 'u']\n",
        "Create a new list upperCase using list comprehension and copy the content of the lowerCase list, but in uppercase (capital letters). (upperCase should be ['A', 'E', 'I', 'O', 'U'])"
      ]
    },
    {
      "cell_type": "code",
      "metadata": {
        "id": "-HhhWi7jhGIj",
        "colab": {
          "base_uri": "https://localhost:8080/"
        },
        "outputId": "5a2fcaf2-b01f-4c7e-c1d0-8b925a5e9c85"
      },
      "source": [
        "#please write the code below this line\n",
        "lowerCase = ['a','e','i','o','u']\n",
        "upperCase = []\n",
        "for i in lowerCase :\n",
        "  i = i.upper()   \n",
        "  upperCase.append(i)\n",
        "print(upperCase)"
      ],
      "execution_count": 5,
      "outputs": [
        {
          "output_type": "stream",
          "text": [
            "['A', 'E', 'I', 'O', 'U']\n"
          ],
          "name": "stdout"
        }
      ]
    },
    {
      "cell_type": "markdown",
      "metadata": {
        "id": "YkTzwuJphPxV"
      },
      "source": [
        "3.Given a tuple fruits = (\"banana\", \"cherry\", \"apple\", \"grapes\")\n",
        "Create 3 variables yellow, red and green and assign them with fruits of their respective color.\n",
        "(yellow=\"banana\", red=[\"cherry\", \"apple\"], green=\"grapes (hint- Use unpacking)"
      ]
    },
    {
      "cell_type": "code",
      "metadata": {
        "id": "cSaKkX2mh33Q",
        "colab": {
          "base_uri": "https://localhost:8080/"
        },
        "outputId": "83f5d31b-8145-4ab2-e9bf-979ab649e150"
      },
      "source": [
        "#please write the code below this line\n",
        "fruits = (\"banana\",\"cherry\",\"apple\",\"grapes\")\n",
        "(yellow,*red,green) = fruits\n",
        "print(yellow)\n",
        "print(red)\n",
        "print(green)\n"
      ],
      "execution_count": 7,
      "outputs": [
        {
          "output_type": "stream",
          "text": [
            "banana\n",
            "['cherry', 'apple']\n",
            "grapes\n"
          ],
          "name": "stdout"
        }
      ]
    }
  ]
}