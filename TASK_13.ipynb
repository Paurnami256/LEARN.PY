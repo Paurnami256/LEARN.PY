{
  "nbformat": 4,
  "nbformat_minor": 0,
  "metadata": {
    "colab": {
      "name": "Copy of TASK 13.ipynb",
      "provenance": [],
      "include_colab_link": true
    },
    "kernelspec": {
      "name": "python3",
      "display_name": "Python 3"
    },
    "language_info": {
      "name": "python"
    }
  },
  "cells": [
    {
      "cell_type": "markdown",
      "metadata": {
        "id": "view-in-github",
        "colab_type": "text"
      },
      "source": [
        "<a href=\"https://colab.research.google.com/github/Paurnami256/LEARN.PY/blob/main/TASK_13.ipynb\" target=\"_parent\"><img src=\"https://colab.research.google.com/assets/colab-badge.svg\" alt=\"Open In Colab\"/></a>"
      ]
    },
    {
      "cell_type": "markdown",
      "metadata": {
        "id": "RUSoRkrOqNwf"
      },
      "source": [
        "1. Create a 3x3 array values ranging from 0-8.Find the sum of the elements in this array."
      ]
    },
    {
      "cell_type": "code",
      "metadata": {
        "id": "t01ATYQpqq8u"
      },
      "source": [
        "#please enter your code below this line.\n",
        "import numpy as np\n",
        "a = np.arange(0,9).reshape(3,3)\n",
        "print(\"Matrix a :\\n\", a)\n",
        "s = np.sum(a)\n",
        "print(\"Sum of elements : \", s)"
      ],
      "execution_count": null,
      "outputs": []
    },
    {
      "cell_type": "markdown",
      "metadata": {
        "id": "k3Y7nQF7r3IW"
      },
      "source": [
        "2. Create a 3x3 array values ranging from 0-8.Find the row sum and column sum of this array."
      ]
    },
    {
      "cell_type": "code",
      "metadata": {
        "id": "BzvIlWfvsICv"
      },
      "source": [
        "#please enter your code below this line.\n",
        "import numpy as np\n",
        "a = np.arange(0,9).reshape(3,3)\n",
        "print(\"Matrix a :\\n\", a)\n",
        "b = np.sum(a,axis=1) \n",
        "print(\"Row sum : \\n\",b)\n",
        "c = np.sum(a,axis=0) \n",
        "print(\"Column sum : \\n\",c)"
      ],
      "execution_count": null,
      "outputs": []
    },
    {
      "cell_type": "markdown",
      "metadata": {
        "id": "KOPMsbnrsgue"
      },
      "source": [
        "3. Create a 4x4 array values ranging from 0-15. Now,\n",
        "\n",
        "    a) Find the mininmum value in the array.\n",
        "    \n",
        "    b) Find the maximum value in the array.\n",
        "\n",
        "    c) Find the mean of the values in the array."
      ]
    },
    {
      "cell_type": "code",
      "metadata": {
        "id": "1UzITxp3WDaW"
      },
      "source": [
        "#please enter your code below this line.\n",
        "import numpy as np\n",
        "a = np.arange(0,16).reshape(4,4)\n",
        "print(\"Matrix a :\\n\", a)\n",
        "print(\"Minimum value : \",np.min(a))\n",
        "print(\"Maximum value : \",np.max(a))\n",
        "print(\"Mean value : \",np.mean(a))"
      ],
      "execution_count": null,
      "outputs": []
    },
    {
      "cell_type": "markdown",
      "metadata": {
        "id": "Pah9qGButoz2"
      },
      "source": [
        "4. Create an 10x10 array values ranging from 0-99.And ,\n",
        "\n",
        "    a) Print the 7th row.\n",
        "    \n",
        "    b) Print the rows from 4-8.\n",
        "\n",
        "    c) Print the value at the index 5,5.\n",
        "\n",
        "    d) Print the 5th colomn.\n",
        "\n",
        "    e) Print the columns from 2-5."
      ]
    },
    {
      "cell_type": "code",
      "metadata": {
        "id": "JFXPq0GkvhKi"
      },
      "source": [
        "#please enter your code below this line.\n",
        "import numpy as np\n",
        "a = np.arange(0,100).reshape(10,10)\n",
        "print(\"7th row elements : \",a[7])\n",
        "print(\"4th to 8th row elements : \\n\",a[4:8])\n",
        "print(\"Elemnt at index 5,5 :\",a[5][5])\n",
        "print(\"5th column elements : \",a[:,5])\n",
        "print(\"2nd to 5th column elements :\\n\",a[:,2:5])"
      ],
      "execution_count": null,
      "outputs": []
    }
  ]
}