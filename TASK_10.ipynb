{
  "nbformat": 4,
  "nbformat_minor": 0,
  "metadata": {
    "colab": {
      "name": "Copy of TASK 10.ipynb",
      "provenance": [],
      "include_colab_link": true
    },
    "kernelspec": {
      "name": "python3",
      "display_name": "Python 3"
    },
    "language_info": {
      "name": "python"
    }
  },
  "cells": [
    {
      "cell_type": "markdown",
      "metadata": {
        "id": "view-in-github",
        "colab_type": "text"
      },
      "source": [
        "<a href=\"https://colab.research.google.com/github/Paurnami256/LEARN.PY/blob/main/TASK_10.ipynb\" target=\"_parent\"><img src=\"https://colab.research.google.com/assets/colab-badge.svg\" alt=\"Open In Colab\"/></a>"
      ]
    },
    {
      "cell_type": "markdown",
      "metadata": {
        "id": "VHKxwUewxOi2"
      },
      "source": [
        "1. Generate two  3 x 3 matrix and find it's dot product and take the transpose of the answer."
      ]
    },
    {
      "cell_type": "code",
      "metadata": {
        "id": "RdyKd1CAxZtR"
      },
      "source": [
        "#please provide your answer below this line.\n",
        "import numpy as np\n",
        "a = np.random.randn(3,3)\n",
        "b = np.random.randn(3,3)\n",
        "print(a)\n",
        "print(\"\\n\")\n",
        "print(b)\n",
        "print(\"\\n\")\n",
        "c = a.dot(b)\n",
        "print(c)\n",
        "print(\"\\n\")\n",
        "d = c.transpose()\n",
        "print(d)"
      ],
      "execution_count": null,
      "outputs": []
    },
    {
      "cell_type": "markdown",
      "metadata": {
        "id": "9c9ZwiBxxf4t"
      },
      "source": [
        "2. Create a 3x3 matrix with elements [55,25,15], [30,44,2], [11,45,77] . Now find the determinant of the given matrix."
      ]
    },
    {
      "cell_type": "code",
      "metadata": {
        "id": "Anmr3C9KyNyy"
      },
      "source": [
        "#please provide your answer below this line.\n",
        "import numpy as np\n",
        "a = np.matrix('[55,25,15;30,44,2;11,45,77]')\n",
        "print(a)\n",
        "print(\"\\n\")\n",
        "d = np.linalg.det(a)\n",
        "print(int(d))"
      ],
      "execution_count": null,
      "outputs": []
    }
  ]
}