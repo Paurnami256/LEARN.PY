{
  "nbformat": 4,
  "nbformat_minor": 0,
  "metadata": {
    "colab": {
      "name": "Copy of TASK  7.ipynb",
      "provenance": [],
      "collapsed_sections": [],
      "include_colab_link": true
    },
    "kernelspec": {
      "name": "python3",
      "display_name": "Python 3"
    },
    "language_info": {
      "name": "python"
    }
  },
  "cells": [
    {
      "cell_type": "markdown",
      "metadata": {
        "id": "view-in-github",
        "colab_type": "text"
      },
      "source": [
        "<a href=\"https://colab.research.google.com/github/Paurnami256/LEARN.PY/blob/main/TASK_7.ipynb\" target=\"_parent\"><img src=\"https://colab.research.google.com/assets/colab-badge.svg\" alt=\"Open In Colab\"/></a>"
      ]
    },
    {
      "cell_type": "markdown",
      "metadata": {
        "id": "b0V3vwzcydKy"
      },
      "source": [
        "1. Write a program to check whether a  string is palindrome or not using functions. \n",
        "\n",
        "   ( A function is to be created to check whether the string is palindrome and it should give the output true or false to the main program)"
      ]
    },
    {
      "cell_type": "code",
      "metadata": {
        "id": "M2Mi7EOdyxiu"
      },
      "source": [
        "#please enter the code below this line.\n",
        "def checkpalin (str) :\n",
        "  str=str.casefold()\n",
        "  rev=reversed(str)\n",
        "  if list(str) == list(rev) :\n",
        "    return True\n",
        "  else :\n",
        "    return False\n",
        "\n",
        "str=input(\"Enter the String : \")\n",
        "ans=checkpalin(str)\n",
        "if ans :\n",
        "  print(\"String is palindrome\")\n",
        "else :\n",
        "  print(\"String is not palindrome\")\n",
        "\n",
        " "
      ],
      "execution_count": null,
      "outputs": []
    },
    {
      "cell_type": "markdown",
      "metadata": {
        "id": "vSiShTyOzEz-"
      },
      "source": [
        "2.  Write a menu driven program to find largest element in L, smallest element, avg of all values, sum of all values in L. All these operation should be performed in different functions and the result should be returned.\n",
        "\n",
        "\n",
        "      L=[23,24,11,90,1,41,9,99,28,56,72]"
      ]
    },
    {
      "cell_type": "code",
      "metadata": {
        "id": "fRtMIw_CzsmO"
      },
      "source": [
        "#please enter the code below this line.\n",
        "L=[23,24,11,90,1,41,9,99,28,56,72]\n",
        "def larnum(L) :\n",
        "  return max(L)\n",
        "def smallnum(L) :\n",
        "  return min(L)\n",
        "def avgnum(L) :\n",
        "  return sum(L)/len(L)\n",
        "def sumnum(L) :\n",
        "  return sum(L)\n",
        "print(\"Operations : \\n 1.Largest number\\n 2.Smallest number\\n 3.Average of numbers\\n 4.Sum of numbers\")\n",
        "opt=input(\"Enter your choice : \")\n",
        "if (opt == \"1\") :\n",
        "  print(\"Largest number : \",larnum(L))\n",
        "elif (opt == \"2\") :\n",
        "  print(\"Smallest number : \",smallnum(L))\n",
        "elif (opt == \"3\") :\n",
        "  print(\"Average of numbers : \",round(avgnum(L),2))\n",
        "elif (opt == \"4\") :\n",
        "  print(\"Sum of numbers : \",sumnum(L))\n",
        "else :\n",
        "  print(\"Exited the program.\")\n",
        "  exit\n"
      ],
      "execution_count": null,
      "outputs": []
    }
  ]
}